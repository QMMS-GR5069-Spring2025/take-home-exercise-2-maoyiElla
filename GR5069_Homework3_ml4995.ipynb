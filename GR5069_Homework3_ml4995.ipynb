{
 "cells": [
  {
   "cell_type": "code",
   "execution_count": 0,
   "metadata": {
    "application/vnd.databricks.v1+cell": {
     "cellMetadata": {
      "byteLimit": 2048000,
      "rowLimit": 10000
     },
     "inputWidgets": {},
     "nuid": "4c02d8c4-6919-489c-9e93-1c8447908c8f",
     "showTitle": false,
     "tableResultSettingsMap": {},
     "title": ""
    }
   },
   "outputs": [],
   "source": [
    "from pyspark.sql import SparkSession\n",
    "from pyspark.sql.functions import col, avg, when, substring, datediff, to_date, row_number, count\n",
    "\n",
    "drivers = spark.read.csv(\"s3://columbia-gr5069-main/raw/drivers.csv\", header=True)\n",
    "results = spark.read.csv(\"s3://columbia-gr5069-main/raw/results.csv\", header=True)\n",
    "races = spark.read.csv(\"s3://columbia-gr5069-main/raw/races.csv\", header=True)\n",
    "pit_stops = spark.read.csv('s3://columbia-gr5069-main/raw/pit_stops.csv', header=True)"
   ]
  },
  {
   "cell_type": "markdown",
   "metadata": {
    "application/vnd.databricks.v1+cell": {
     "cellMetadata": {},
     "inputWidgets": {},
     "nuid": "27f1c95f-aa52-4e79-b58a-e52e30a15b8c",
     "showTitle": false,
     "tableResultSettingsMap": {},
     "title": ""
    }
   },
   "source": [
    "#### Question 1: What was the average time each driver spent at the pit stop for each race?"
   ]
  },
  {
   "cell_type": "code",
   "execution_count": 0,
   "metadata": {
    "application/vnd.databricks.v1+cell": {
     "cellMetadata": {
      "byteLimit": 2048000,
      "rowLimit": 10000
     },
     "inputWidgets": {},
     "nuid": "9cb8bc9c-7091-4dd7-b860-41c9c1db7e0f",
     "showTitle": false,
     "tableResultSettingsMap": {},
     "title": ""
    }
   },
   "outputs": [],
   "source": [
    "avg_pit_time = pit_stops.groupBy(\"raceId\", \"driverId\").agg(avg(\"milliseconds\").alias(\"avg_pit_time_ms\"))\n",
    "display(avg_pit_time)"
   ]
  },
  {
   "cell_type": "markdown",
   "metadata": {
    "application/vnd.databricks.v1+cell": {
     "cellMetadata": {},
     "inputWidgets": {},
     "nuid": "f51e78b0-2e60-4c28-8bfb-d93aa5617798",
     "showTitle": false,
     "tableResultSettingsMap": {},
     "title": ""
    }
   },
   "source": [
    "#### Question 2: Rank the average time spent at the pit stop in order of who won each race"
   ]
  },
  {
   "cell_type": "code",
   "execution_count": 0,
   "metadata": {
    "application/vnd.databricks.v1+cell": {
     "cellMetadata": {
      "byteLimit": 2048000,
      "rowLimit": 10000
     },
     "inputWidgets": {},
     "nuid": "3aad9bac-24ea-49db-81db-23bda584cdce",
     "showTitle": false,
     "tableResultSettingsMap": {},
     "title": ""
    }
   },
   "outputs": [],
   "source": [
    "winners = results.filter(col(\"positionOrder\") == 1).select(\"raceId\", \"driverId\").withColumnRenamed(\"driverId\", \"winner_driverId\")\n",
    "\n",
    "joined = avg_pit_time.join(winners, \"raceId\")\n",
    "winner_pit_times = joined.filter(col(\"driverId\") == col(\"winner_driverId\")).orderBy(\"avg_pit_time_ms\")\n",
    "\n",
    "display(winner_pit_times)"
   ]
  },
  {
   "cell_type": "code",
   "execution_count": 0,
   "metadata": {
    "application/vnd.databricks.v1+cell": {
     "cellMetadata": {},
     "inputWidgets": {},
     "nuid": "234af43b-87ab-4f6a-95dc-c977e191250c",
     "showTitle": false,
     "tableResultSettingsMap": {},
     "title": ""
    }
   },
   "outputs": [],
   "source": []
  }
 ],
 "metadata": {
  "application/vnd.databricks.v1+notebook": {
   "computePreferences": null,
   "dashboards": [],
   "environmentMetadata": {
    "base_environment": "",
    "environment_version": "2"
   },
   "language": "python",
   "notebookMetadata": {
    "pythonIndentUnit": 4
   },
   "notebookName": "GR5069_Homework3_ml4995",
   "widgets": {}
  },
  "language_info": {
   "name": "python"
  }
 },
 "nbformat": 4,
 "nbformat_minor": 0
}
