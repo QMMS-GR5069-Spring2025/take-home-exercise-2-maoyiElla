{
 "cells": [
  {
   "cell_type": "code",
   "execution_count": 0,
   "metadata": {
    "application/vnd.databricks.v1+cell": {
     "cellMetadata": {
      "byteLimit": 2048000,
      "rowLimit": 10000
     },
     "inputWidgets": {},
     "nuid": "4c02d8c4-6919-489c-9e93-1c8447908c8f",
     "showTitle": false,
     "tableResultSettingsMap": {},
     "title": ""
    }
   },
   "outputs": [],
   "source": [
    "from pyspark.sql import SparkSession\n",
    "from pyspark.sql.functions import col, avg, when, substring, upper, floor, months_between, to_date, row_number, sum, min\n",
    "from pyspark.sql.window import Window\n",
    "\n",
    "drivers = spark.read.csv(\"s3://columbia-gr5069-main/raw/drivers.csv\", header=True)\n",
    "results = spark.read.csv(\"s3://columbia-gr5069-main/raw/results.csv\", header=True)\n",
    "races = spark.read.csv(\"s3://columbia-gr5069-main/raw/races.csv\", header=True)\n",
    "pit_stops = spark.read.csv('s3://columbia-gr5069-main/raw/pit_stops.csv', header=True)"
   ]
  },
  {
   "cell_type": "markdown",
   "metadata": {
    "application/vnd.databricks.v1+cell": {
     "cellMetadata": {
      "byteLimit": 2048000,
      "rowLimit": 10000
     },
     "inputWidgets": {},
     "nuid": "27f1c95f-aa52-4e79-b58a-e52e30a15b8c",
     "showTitle": false,
     "tableResultSettingsMap": {},
     "title": ""
    }
   },
   "source": [
    "#### Question 1: What was the average time each driver spent at the pit stop for each race?"
   ]
  },
  {
   "cell_type": "code",
   "execution_count": 0,
   "metadata": {
    "application/vnd.databricks.v1+cell": {
     "cellMetadata": {
      "byteLimit": 2048000,
      "rowLimit": 10000
     },
     "inputWidgets": {},
     "nuid": "9cb8bc9c-7091-4dd7-b860-41c9c1db7e0f",
     "showTitle": false,
     "tableResultSettingsMap": {},
     "title": ""
    }
   },
   "outputs": [],
   "source": [
    "# The average time that each driver spent at the pit stop for each race\n",
    "avg_pit_time = pit_stops.groupBy(\"raceId\", \"driverId\").agg(avg(\"milliseconds\").alias(\"avg_pit_time_ms\"))\n",
    "display(avg_pit_time)"
   ]
  },
  {
   "cell_type": "markdown",
   "metadata": {
    "application/vnd.databricks.v1+cell": {
     "cellMetadata": {
      "byteLimit": 2048000,
      "rowLimit": 10000
     },
     "inputWidgets": {},
     "nuid": "f51e78b0-2e60-4c28-8bfb-d93aa5617798",
     "showTitle": false,
     "tableResultSettingsMap": {},
     "title": ""
    }
   },
   "source": [
    "#### Question 2: Rank the average time spent at the pit stop in order of who won each race"
   ]
  },
  {
   "cell_type": "code",
   "execution_count": 0,
   "metadata": {
    "application/vnd.databricks.v1+cell": {
     "cellMetadata": {
      "byteLimit": 2048000,
      "rowLimit": 10000
     },
     "inputWidgets": {},
     "nuid": "7e816fa8-a534-48be-a11b-b1b66dab3225",
     "showTitle": false,
     "tableResultSettingsMap": {},
     "title": ""
    }
   },
   "outputs": [],
   "source": [
    "# Join with results to get finishing position\n",
    "results_filtered = results.filter(col(\"positionOrder\").isNotNull())\n",
    "joined = avg_pit_time.join(\n",
    "    results_filtered.select(\"raceId\", \"driverId\", \"positionOrder\"),\n",
    "    on=[\"raceId\", \"driverId\"],\n",
    "    how=\"inner\"\n",
    ")\n",
    "\n",
    "# Rank the average pit stop times based on the drivers' finishing order (positionOrder)\n",
    "ranked_pit_stops = joined.orderBy(\"raceId\", \"positionOrder\")\n",
    "\n",
    "display(ranked_pit_stops)\n",
    "\n",
    "# How I decided to deal with drivers who did not finish the race: To ensure fairness and meaningful comparisons, I excluded drivers who did not finish the race, which we identified as having null values in the positionOrder column."
   ]
  },
  {
   "cell_type": "code",
   "execution_count": 0,
   "metadata": {
    "application/vnd.databricks.v1+cell": {
     "cellMetadata": {
      "byteLimit": 2048000,
      "rowLimit": 10000
     },
     "inputWidgets": {},
     "nuid": "3aad9bac-24ea-49db-81db-23bda584cdce",
     "showTitle": false,
     "tableResultSettingsMap": {},
     "title": ""
    }
   },
   "outputs": [],
   "source": [
    "# Below is only for the winners(positionOrder = 1) from each race\n",
    "winners = results.filter(col(\"positionOrder\") == 1).select(\"raceId\", \"driverId\").withColumnRenamed(\"driverId\", \"winner_driverId\")\n",
    "\n",
    "joined = avg_pit_time.join(winners, \"raceId\")\n",
    "winner_pit_times = joined.filter(col(\"driverId\") == col(\"winner_driverId\")).orderBy(\"avg_pit_time_ms\")\n",
    "\n",
    "display(winner_pit_times)"
   ]
  },
  {
   "cell_type": "markdown",
   "metadata": {
    "application/vnd.databricks.v1+cell": {
     "cellMetadata": {
      "byteLimit": 2048000,
      "rowLimit": 10000
     },
     "inputWidgets": {},
     "nuid": "4c5e3467-5a57-4e2a-8c87-75cf71571c22",
     "showTitle": false,
     "tableResultSettingsMap": {},
     "title": ""
    }
   },
   "source": [
    "#### Question 3: Insert the missing code (e.g: ALO for Alonso) for drivers based on the 'drivers' dataset"
   ]
  },
  {
   "cell_type": "code",
   "execution_count": 0,
   "metadata": {
    "application/vnd.databricks.v1+cell": {
     "cellMetadata": {
      "byteLimit": 2048000,
      "rowLimit": 10000
     },
     "inputWidgets": {},
     "nuid": "b1cac1ce-b59d-4ede-9b69-b0a04596ee94",
     "showTitle": false,
     "tableResultSettingsMap": {},
     "title": ""
    }
   },
   "outputs": [],
   "source": [
    "# If the original code is \\N, we take the first 3 letters of the surname (uppercased)\n",
    "drivers = drivers.withColumn(\n",
    "    \"code\",\n",
    "    when(col(\"code\") == \"\\\\N\", upper(substring(col(\"surname\"), 1, 3)))\n",
    "    .otherwise(col(\"code\"))\n",
    ")\n",
    "\n",
    "display(drivers)"
   ]
  },
  {
   "cell_type": "markdown",
   "metadata": {
    "application/vnd.databricks.v1+cell": {
     "cellMetadata": {
      "byteLimit": 2048000,
      "rowLimit": 10000
     },
     "inputWidgets": {},
     "nuid": "cd0fc036-425b-44bb-91af-110be620bf67",
     "showTitle": false,
     "tableResultSettingsMap": {},
     "title": ""
    }
   },
   "source": [
    "#### Question 4: Who is the youngest and oldest driver for each race? Create a new column called “Age”"
   ]
  },
  {
   "cell_type": "code",
   "execution_count": 0,
   "metadata": {
    "application/vnd.databricks.v1+cell": {
     "cellMetadata": {
      "byteLimit": 2048000,
      "rowLimit": 10000
     },
     "inputWidgets": {},
     "nuid": "a38dd1f6-d9d0-430d-8013-b2f81197266a",
     "showTitle": false,
     "tableResultSettingsMap": {},
     "title": ""
    }
   },
   "outputs": [],
   "source": [
    "# Join races to results table, and drivers, to get full context\n",
    "race_results = results.join(races.select(\"raceId\", \"date\"), on=\"raceId\")\n",
    "race_results = race_results.join(drivers.select(\"driverId\", \"dob\", \"forename\", \"surname\"), on=\"driverId\")\n",
    "\n",
    "# Counts how many birthdays each driver has had in their lives\n",
    "race_results = race_results.withColumn(\n",
    "    \"Age\",\n",
    "    floor(months_between(col(\"date\"), col(\"dob\")) / 12)\n",
    ")\n",
    "\n",
    "# Use window functions to find youngest and oldest driver per race\n",
    "window_young = Window.partitionBy(\"raceId\").orderBy(col(\"Age\").asc())\n",
    "window_old = Window.partitionBy(\"raceId\").orderBy(col(\"Age\").desc())\n",
    "youngest = race_results.withColumn(\"rn\", row_number().over(window_young)).filter(\"rn = 1\")\n",
    "oldest = race_results.withColumn(\"rn\", row_number().over(window_old)).filter(\"rn = 1\")\n",
    "\n",
    "# the oldest and youngest driver for each race\n",
    "display(youngest.select(\"raceId\", \"forename\", \"surname\", \"Age\"))\n",
    "display(oldest.select(\"raceId\", \"forename\", \"surname\", \"Age\"))"
   ]
  },
  {
   "cell_type": "markdown",
   "metadata": {
    "application/vnd.databricks.v1+cell": {
     "cellMetadata": {
      "byteLimit": 2048000,
      "rowLimit": 10000
     },
     "inputWidgets": {},
     "nuid": "e95e6e4f-3f71-4408-9021-db7e1a4f6a5c",
     "showTitle": false,
     "tableResultSettingsMap": {},
     "title": ""
    }
   },
   "source": [
    "#### Question 5: For a given race, which driver has the most wins and losses?"
   ]
  },
  {
   "cell_type": "code",
   "execution_count": 0,
   "metadata": {
    "application/vnd.databricks.v1+cell": {
     "cellMetadata": {
      "byteLimit": 2048000,
      "rowLimit": 10000
     },
     "inputWidgets": {},
     "nuid": "b2fe8b16-04b6-4ab6-9744-ae37d6b8e386",
     "showTitle": false,
     "tableResultSettingsMap": {},
     "title": ""
    }
   },
   "outputs": [],
   "source": [
    "# Join race data into results\n",
    "results_with_race_info = results.join(races.select(\"raceId\", \"year\", \"round\"), on=\"raceId\")\n",
    "\n",
    "# Create alias for self-join on prior races\n",
    "past_races = results_with_race_info.alias(\"past\")\n",
    "current_races = results_with_race_info.alias(\"curr\")\n",
    "\n",
    "# Join all current races with all past races where past year/round < current year/round\n",
    "joined = current_races.join(\n",
    "    past_races,\n",
    "    (col(\"past.driverId\") == col(\"curr.driverId\")) &\n",
    "    (\n",
    "        (col(\"past.year\") < col(\"curr.year\")) |\n",
    "        ((col(\"past.year\") == col(\"curr.year\")) & (col(\"past.round\") < col(\"curr.round\")))\n",
    "    ),\n",
    "    how=\"left\"\n",
    ")\n",
    "\n",
    "# Add columns to tag past wins and past finishes (non-wins)\n",
    "joined = joined.withColumn(\"past_win\", (col(\"past.positionOrder\") == 1).cast(\"int\"))\n",
    "joined = joined.withColumn(\"past_loss\", ((col(\"past.positionOrder\") != 1) & (col(\"past.statusId\") == 1)).cast(\"int\"))\n",
    "\n",
    "# Group by current race and driver, summing past wins and losses\n",
    "driver_history_per_race = joined.groupBy(\"curr.raceId\", \"curr.driverId\").agg(\n",
    "    sum(\"past_win\").alias(\"past_wins\"),\n",
    "    sum(\"past_loss\").alias(\"past_losses\")\n",
    ")\n",
    "\n",
    "driver_history_per_race = driver_history_per_race.orderBy(\"raceId\", col(\"past_wins\").desc())\n",
    "\n",
    "display(driver_history_per_race)"
   ]
  },
  {
   "cell_type": "code",
   "execution_count": 0,
   "metadata": {
    "application/vnd.databricks.v1+cell": {
     "cellMetadata": {
      "byteLimit": 2048000,
      "rowLimit": 10000
     },
     "inputWidgets": {},
     "nuid": "8dfad2cb-f86d-4b64-8548-bfa2092cd80a",
     "showTitle": false,
     "tableResultSettingsMap": {},
     "title": ""
    }
   },
   "outputs": [],
   "source": [
    "# Create windows to rank within each race\n",
    "wins_window = Window.partitionBy(\"raceId\").orderBy(col(\"past_wins\").desc())\n",
    "losses_window = Window.partitionBy(\"raceId\").orderBy(col(\"past_losses\").desc())\n",
    "\n",
    "# Rank drivers by past_wins and past_losses per race\n",
    "ranked_wins = driver_history_per_race.withColumn(\"win_rank\", row_number().over(wins_window))\n",
    "ranked_losses = driver_history_per_race.withColumn(\"loss_rank\", row_number().over(losses_window))\n",
    "\n",
    "# Get top 1 driver with most wins and losses per race\n",
    "most_wins_per_race = ranked_wins.filter(col(\"win_rank\") == 1).select(\"raceId\", \"driverId\", \"past_wins\")\n",
    "most_losses_per_race = ranked_losses.filter(col(\"loss_rank\") == 1).select(\"raceId\", \"driverId\", \"past_losses\")\n",
    "\n",
    "print(\"Driver with most wins before each race:\")\n",
    "display(most_wins_per_race)\n",
    "\n",
    "print(\"Driver with most losses before each race:\")\n",
    "display(most_losses_per_race)"
   ]
  },
  {
   "cell_type": "markdown",
   "metadata": {
    "application/vnd.databricks.v1+cell": {
     "cellMetadata": {
      "byteLimit": 2048000,
      "rowLimit": 10000
     },
     "inputWidgets": {},
     "nuid": "f8cca46c-84ac-4b0b-8316-6825c309ad9f",
     "showTitle": false,
     "tableResultSettingsMap": {},
     "title": ""
    }
   },
   "source": [
    "#### Question 6: Continue exploring the data by answering your own question. What was each driver's age when they achieved their best personal performance (shortest race time)?"
   ]
  },
  {
   "cell_type": "code",
   "execution_count": 0,
   "metadata": {
    "application/vnd.databricks.v1+cell": {
     "cellMetadata": {
      "byteLimit": 2048000,
      "rowLimit": 10000
     },
     "inputWidgets": {},
     "nuid": "eff42928-fe3b-496c-9ddf-ed5e74160380",
     "showTitle": false,
     "tableResultSettingsMap": {},
     "title": ""
    }
   },
   "outputs": [],
   "source": [
    "# Fastest race time per driver\n",
    "results_filtered = results.filter(col(\"milliseconds\").isNotNull())\n",
    "best_times = results_filtered.groupBy(\"driverId\").agg(min(\"milliseconds\").alias(\"best_time\"))\n",
    "\n",
    "# Join to get race where best time happened — use aliases\n",
    "res = results_filtered.alias(\"res\")\n",
    "bt = best_times.alias(\"bt\")\n",
    "\n",
    "best_results = res.join(\n",
    "    bt,\n",
    "    (col(\"res.driverId\") == col(\"bt.driverId\")) &\n",
    "    (col(\"res.milliseconds\") == col(\"bt.best_time\")),\n",
    "    how=\"inner\"\n",
    ").select(\n",
    "    col(\"res.driverId\"),\n",
    "    col(\"res.raceId\"),\n",
    "    col(\"res.milliseconds\")\n",
    ")\n",
    "\n",
    "# If multiple races have same best time, keep only the earliest one\n",
    "window = Window.partitionBy(\"driverId\").orderBy(\"raceId\")\n",
    "best_results = best_results.withColumn(\"rn\", row_number().over(window)).filter(\"rn = 1\").drop(\"rn\")\n",
    "\n",
    "# Join with race_results to get \"Age\", but need to use filtered_results\n",
    "race_results = results_filtered.join(races.select(\"raceId\", \"date\"), on=\"raceId\")\n",
    "race_results = race_results.join(drivers.select(\"driverId\", \"dob\", \"forename\", \"surname\"), on=\"driverId\")\n",
    "\n",
    "# Counts how many birthdays each driver has had in their lives\n",
    "race_results = race_results.withColumn(\n",
    "    \"Age\",\n",
    "    floor(months_between(col(\"date\"), col(\"dob\")) / 12)\n",
    ")\n",
    "age_df = race_results.alias(\"age_df\")\n",
    "\n",
    "best_with_age = best_results.alias(\"br\").join(\n",
    "    age_df.select(\"driverId\", \"raceId\", \"Age\"),\n",
    "    on=[\"driverId\", \"raceId\"],\n",
    "    how=\"left\"\n",
    ")\n",
    "best_with_age = best_with_age.filter(\n",
    "    (col(\"milliseconds\").isNotNull()) & (col(\"milliseconds\") != \"\\\\N\")\n",
    ")\n",
    "display(best_with_age)"
   ]
  }
 ],
 "metadata": {
  "application/vnd.databricks.v1+notebook": {
   "computePreferences": null,
   "dashboards": [],
   "environmentMetadata": {
    "base_environment": "",
    "environment_version": "2"
   },
   "language": "python",
   "notebookMetadata": {
    "pythonIndentUnit": 4
   },
   "notebookName": "GR5069_Homework3_ml4995",
   "widgets": {}
  },
  "language_info": {
   "name": "python"
  }
 },
 "nbformat": 4,
 "nbformat_minor": 0
}
